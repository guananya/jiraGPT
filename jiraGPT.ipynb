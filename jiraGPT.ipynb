{
 "cells": [
  {
   "cell_type": "code",
   "execution_count": 72,
   "id": "7db13f35-cb26-498c-bd09-61e7c8c80312",
   "metadata": {},
   "outputs": [],
   "source": [
    "# import the installed Jira library \n",
    "from jira import JIRA \n",
    "from openai import OpenAI\n",
    "import time\n",
    "\n",
    "instruction = \"You are on the engineering team managing tickets. You transform brief software engineering task titles into a fully fleshed ticket that can be used in things like Jira. You should take in a short engineering task as input. You should output a completed scope for the task that could include descriptions, acceptance criteria, sub-tasks, assumptions, and any other relevant details.You output should be json of 'summary' and 'fleshedOut' only.\"\n",
    "client = OpenAI(api_key=\"your api key here\")\n",
    "\n",
    "jiraUsername = \"your username here\"\n",
    "jiraAPI = \"your jira api key here\"\n",
    "jiraOptions = {'server': \"https://<your company name>.atlassian.net\"} \n",
    "\n",
    "jira = JIRA(options=jiraOptions, basic_auth=(jiraUsername, jiraAPI)) \n",
    "\n",
    "jiraProjectName = 'your project name'\n",
    "jqlStr = 'project = ' + jiraProjectName"
   ]
  },
  {
   "cell_type": "code",
   "execution_count": 73,
   "id": "eff3c4c3-c39b-4b20-89cf-3f893dbf85c4",
   "metadata": {},
   "outputs": [],
   "source": [
    "def makeAssistant(instruction, client):\n",
    "    assistant = client.beta.assistants.create(\n",
    "    name=\"jellyfish\",\n",
    "    instructions=instruction,\n",
    "    model=\"gpt-3.5-turbo-1106\"\n",
    "    )\n",
    "    return assistant"
   ]
  },
  {
   "cell_type": "code",
   "execution_count": 74,
   "id": "37a20cc5-90fa-4327-b90b-eb85cefa58a3",
   "metadata": {},
   "outputs": [],
   "source": [
    "def getOutput(assistant, prompt):\n",
    "\n",
    "    thread = client.beta.threads.create()\n",
    "    message = client.beta.threads.messages.create(\n",
    "    thread_id=thread.id,\n",
    "    role=\"user\",\n",
    "        content=prompt\n",
    "    )\n",
    "    run = client.beta.threads.runs.create(\n",
    "      thread_id=thread.id,\n",
    "      assistant_id=assistant.id,\n",
    "    )\n",
    "    messages = client.beta.threads.messages.list(\n",
    "      thread_id=thread.id\n",
    "    )\n",
    "\n",
    "    time.sleep(8)\n",
    "    \n",
    "    messages = client.beta.threads.messages.list(\n",
    "      thread_id=thread.id\n",
    "    )\n",
    "    for message in reversed(messages.data):\n",
    "        allData = message.content[0].text.value\n",
    "\n",
    "    print(allData)\n",
    "\n",
    "    summ = (allData.split(\"summary\")[1].split('fleshedOut')[0]).replace('\\n', \"\")\n",
    "\n",
    "    desc = (allData.split('fleshedOut')[1]).replace('\\n', \"\")\n",
    "\n",
    "    return summ, desc"
   ]
  },
  {
   "cell_type": "code",
   "execution_count": 75,
   "id": "b0099a84-e271-41c6-b6c5-32ca10a05777",
   "metadata": {},
   "outputs": [],
   "source": [
    "def addToJira(summ, desc, jira, jiraProjectName):\n",
    "    # Create a new issue\n",
    "    issue_dict = {\n",
    "        'project': {'key': jiraProjectName},\n",
    "        'summary': summ,\n",
    "        'description': desc,\n",
    "        'issuetype': {'name': 'Task'},\n",
    "    }\n",
    "    \n",
    "    try:\n",
    "        new_issue = jira.create_issue(fields=issue_dict)\n",
    "        print(f\"Issue created: {new_issue.key}\")\n",
    "    except Exception as e:\n",
    "        print(f\"Error: {e}\")"
   ]
  },
  {
   "cell_type": "code",
   "execution_count": 76,
   "id": "ba6f68f1-34b4-40b6-98f7-6e0275981941",
   "metadata": {},
   "outputs": [],
   "source": [
    "assistant = makeAssistant(instruction, client)\n"
   ]
  },
  {
   "cell_type": "code",
   "execution_count": 77,
   "id": "22a5abc6-a676-45d7-8a0a-a66d28cbd0eb",
   "metadata": {},
   "outputs": [
    {
     "name": "stdout",
     "output_type": "stream",
     "text": [
      "```json\n",
      "{\n",
      "  \"summary\": \"Create FAQ section for the website\",\n",
      "  \"fleshedOut\": {\n",
      "    \"description\": \"Add an FAQ section to the website to provide answers to common questions and improve user experience.\",\n",
      "    \"acceptanceCriteria\": [\n",
      "      \"Design and layout of the FAQ section should be consistent with the overall website theme and style.\",\n",
      "      \"FAQ section should be easily accessible from the main navigation or prominent area of the website.\",\n",
      "      \"Minimum of 10 frequently asked questions should be included with clear and concise answers.\",\n",
      "      \"Each question in the FAQ section should have a toggle or expand/collapse functionality to show/hide the answer.\",\n",
      "      \"Ensure that the FAQ section is mobile responsive for optimal viewing on all devices.\",\n",
      "      \"Test the FAQ section across different browsers to ensure compatibility and functionality.\"\n",
      "    ],\n",
      "    \"subTasks\": [\n",
      "      \"Design the layout and user interface for the FAQ section.\",\n",
      "      \"Gather a list of frequently asked questions from customer support and product teams.\",\n",
      "      \"Write clear and concise answers to accompany each question in the FAQ section.\",\n",
      "      \"Implement the FAQ section using HTML, CSS, and JavaScript for interactivity.\"\n",
      "    ],\n",
      "    \"assumptions\": [\n",
      "      \"The website is built using a modern web development stack and can easily accommodate the addition of a new section.\",\n",
      "      \"Content for the FAQ section has been reviewed and approved by relevant stakeholders.\"\n",
      "    ]\n",
      "  }\n",
      "}\n",
      "```\n"
     ]
    }
   ],
   "source": [
    "summ, desc = getOutput(assistant, \"Make an FAQ section\")\n"
   ]
  },
  {
   "cell_type": "code",
   "execution_count": 78,
   "id": "ae2121e6-09f1-4598-823c-e1a8d5224947",
   "metadata": {},
   "outputs": [
    {
     "name": "stdout",
     "output_type": "stream",
     "text": [
      "Issue created: KAN-9\n"
     ]
    }
   ],
   "source": [
    "addToJira(summ, desc, jira, jiraProjectName)"
   ]
  },
  {
   "cell_type": "code",
   "execution_count": 79,
   "id": "6db68b26-8fb8-4a2c-8a95-c72498450e50",
   "metadata": {},
   "outputs": [
    {
     "name": "stdout",
     "output_type": "stream",
     "text": [
      "KAN-9: \": \"Create FAQ section for the website\",  \":Ananya Gupta\n",
      "KAN-8: \": \"Create FAQ Section\",  \":Ananya Gupta\n",
      "KAN-7: \": \"Create an FAQ section on the website\",  \":Ananya Gupta\n",
      "KAN-6: \": \"Create an FAQ section on the website\",  \":Ananya Gupta\n",
      "KAN-5: \": \"New font to landing page\",  \":Ananya Gupta\n",
      "KAN-4: \": \"Implement new font on landing page\",  \":Ananya Gupta\n",
      "KAN-3: New issue created from Python:Ananya Gupta\n",
      "KAN-2: New issue created from Python:Ananya Gupta\n",
      "KAN-1: 401 log in:Ananya Gupta\n"
     ]
    }
   ],
   "source": [
    "# Search all issues mentioned against a project name. \n",
    "for singleIssue in jira.search_issues(jql_str=jqlStr): \n",
    "    print('{}: {}:{}'.format(singleIssue.key, singleIssue.fields.summary, \n",
    "                             singleIssue.fields.reporter.displayName)) "
   ]
  },
  {
   "cell_type": "code",
   "execution_count": null,
   "id": "1e49bd1a-06e8-4c27-8643-e02a899e8294",
   "metadata": {},
   "outputs": [],
   "source": []
  }
 ],
 "metadata": {
  "kernelspec": {
   "display_name": "Python 3 (ipykernel)",
   "language": "python",
   "name": "python3"
  },
  "language_info": {
   "codemirror_mode": {
    "name": "ipython",
    "version": 3
   },
   "file_extension": ".py",
   "mimetype": "text/x-python",
   "name": "python",
   "nbconvert_exporter": "python",
   "pygments_lexer": "ipython3",
   "version": "3.11.5"
  }
 },
 "nbformat": 4,
 "nbformat_minor": 5
}
